{
 "cells": [
  {
   "cell_type": "code",
   "execution_count": 2,
   "id": "f3157d27-7294-4836-8e01-2fbd76f54a34",
   "metadata": {},
   "outputs": [],
   "source": [
    "1.\n",
    "# String-\n",
    "a=\"Ayush Raj karan\"\n",
    "# List-\n",
    "b=[1,2,3,4]\n",
    "# float-\n",
    "c=19.22\n",
    "# tuple\n",
    "d=(1,2,3,4,5)"
   ]
  },
  {
   "cell_type": "code",
   "execution_count": 3,
   "id": "bdcd55ad-6d3f-46e2-9d2f-5d16239c5421",
   "metadata": {},
   "outputs": [
    {
     "data": {
      "text/plain": [
       "str"
      ]
     },
     "execution_count": 3,
     "metadata": {},
     "output_type": "execute_result"
    }
   ],
   "source": [
    "type(a)"
   ]
  },
  {
   "cell_type": "code",
   "execution_count": 4,
   "id": "b6001e54-a6ee-4e29-86c1-e31687dd8402",
   "metadata": {},
   "outputs": [
    {
     "data": {
      "text/plain": [
       "list"
      ]
     },
     "execution_count": 4,
     "metadata": {},
     "output_type": "execute_result"
    }
   ],
   "source": [
    "type(b)"
   ]
  },
  {
   "cell_type": "code",
   "execution_count": 5,
   "id": "0d83a2f3-a38a-4b9c-85a0-3425ced78793",
   "metadata": {},
   "outputs": [
    {
     "data": {
      "text/plain": [
       "float"
      ]
     },
     "execution_count": 5,
     "metadata": {},
     "output_type": "execute_result"
    }
   ],
   "source": [
    "type(c)"
   ]
  },
  {
   "cell_type": "code",
   "execution_count": 6,
   "id": "9019537e-e761-45ee-bf82-c67da6881403",
   "metadata": {},
   "outputs": [
    {
     "data": {
      "text/plain": [
       "tuple"
      ]
     },
     "execution_count": 6,
     "metadata": {},
     "output_type": "execute_result"
    }
   ],
   "source": [
    "type(d)"
   ]
  },
  {
   "cell_type": "code",
   "execution_count": 7,
   "id": "f341a9b2-df36-49ee-8994-30f8be399c88",
   "metadata": {},
   "outputs": [],
   "source": [
    "2.\n",
    "var1=''\n",
    "var2='[DS,ML,Python]'\n",
    "var3=['DS','ML','Python']\n",
    "var4=1"
   ]
  },
  {
   "cell_type": "code",
   "execution_count": 8,
   "id": "8c4cb64c-5ddf-4a4e-bfb0-8d01632a862f",
   "metadata": {},
   "outputs": [
    {
     "data": {
      "text/plain": [
       "str"
      ]
     },
     "execution_count": 8,
     "metadata": {},
     "output_type": "execute_result"
    }
   ],
   "source": [
    "type(var1)"
   ]
  },
  {
   "cell_type": "code",
   "execution_count": 9,
   "id": "1139f30c-217a-4fa6-b97c-2724eb5bd7d1",
   "metadata": {},
   "outputs": [
    {
     "data": {
      "text/plain": [
       "str"
      ]
     },
     "execution_count": 9,
     "metadata": {},
     "output_type": "execute_result"
    }
   ],
   "source": [
    "type(var2)"
   ]
  },
  {
   "cell_type": "code",
   "execution_count": 10,
   "id": "c3344272-6568-4f94-9da5-5bc75f0e9786",
   "metadata": {},
   "outputs": [
    {
     "data": {
      "text/plain": [
       "list"
      ]
     },
     "execution_count": 10,
     "metadata": {},
     "output_type": "execute_result"
    }
   ],
   "source": [
    "type(var3)"
   ]
  },
  {
   "cell_type": "code",
   "execution_count": 11,
   "id": "950e3228-f09b-4975-816e-f045f633437b",
   "metadata": {},
   "outputs": [
    {
     "data": {
      "text/plain": [
       "int"
      ]
     },
     "execution_count": 11,
     "metadata": {},
     "output_type": "execute_result"
    }
   ],
   "source": [
    "type(var4)"
   ]
  },
  {
   "cell_type": "markdown",
   "id": "3c0dd99c-ab02-4c9e-a431-ee16920b27d6",
   "metadata": {},
   "source": [
    "3.\n",
    "i.'/' = It is a division operator which is to divide numerator by denomenator.\n",
    "\n",
    "ii. '%' = It is modulus operator which gives out remainder.\n",
    "\n",
    "iii. // =It is a floor division operator which is to gives out the round off the approximate value of remainder.\n",
    "\n",
    "iv. ** = It is an Exponential operator which gives out the value of the base number to the power."
   ]
  },
  {
   "cell_type": "code",
   "execution_count": 19,
   "id": "a56af4f4-b19f-402b-905a-9a973b47f196",
   "metadata": {},
   "outputs": [],
   "source": [
    "4.\n",
    "l=[1,2,3,\"ayush\",1.22,True,(1,2,3,4,5),\"raj\",774,{1,2,3}]"
   ]
  },
  {
   "cell_type": "code",
   "execution_count": 23,
   "id": "a4b5e586-202a-4db2-abc0-d523d8f086e3",
   "metadata": {},
   "outputs": [
    {
     "name": "stdout",
     "output_type": "stream",
     "text": [
      "element: 1, data_type:<class 'int'>\n",
      "element: 2, data_type:<class 'int'>\n",
      "element: 3, data_type:<class 'int'>\n",
      "element: ayush, data_type:<class 'str'>\n",
      "element: 1.22, data_type:<class 'float'>\n",
      "element: True, data_type:<class 'bool'>\n",
      "element: (1, 2, 3, 4, 5), data_type:<class 'tuple'>\n",
      "element: raj, data_type:<class 'str'>\n",
      "element: 774, data_type:<class 'int'>\n",
      "element: {1, 2, 3}, data_type:<class 'set'>\n"
     ]
    }
   ],
   "source": [
    "for i in l:\n",
    "    print(f\"element: {i}, data_type:{type(i)}\")"
   ]
  },
  {
   "cell_type": "code",
   "execution_count": 24,
   "id": "fd45aafd-d168-4ccc-8478-b4582d9b130b",
   "metadata": {},
   "outputs": [
    {
     "name": "stdin",
     "output_type": "stream",
     "text": [
      "Enter the number A:  44\n",
      "Enter the number B:  34\n"
     ]
    },
    {
     "name": "stdout",
     "output_type": "stream",
     "text": [
      "10 is not purely divisible by 34\n"
     ]
    }
   ],
   "source": [
    "5.\n",
    "# Taking input for numbers A and B\n",
    "A = int(input(\"Enter the number A: \"))\n",
    "B = int(input(\"Enter the number B: \"))\n",
    "\n",
    "# Initializing a count variable to keep track of divisions\n",
    "count = 0\n",
    "\n",
    "# Using a while loop to perform division\n",
    "while A >= B:\n",
    "    A = A - B\n",
    "    count += 1\n",
    "\n",
    "if A == 0:\n",
    "    print(f\"{count} times: {A} is purely divisible by {B}\")\n",
    "else:\n",
    "    print(f\"{A} is not purely divisible by {B}\")\n"
   ]
  },
  {
   "cell_type": "code",
   "execution_count": 26,
   "id": "d4cf87c4-1c64-45f1-8168-fd13c3ed0a5d",
   "metadata": {},
   "outputs": [],
   "source": [
    "6.\n",
    "l=[1,2,3,4,5,6,7,8,9,10,11,12,13,14,15,16,17,18,19,20,21,22,23,24,25]"
   ]
  },
  {
   "cell_type": "code",
   "execution_count": 28,
   "id": "4b9bc86c-7f2b-410c-b62e-a75d5c72e45c",
   "metadata": {},
   "outputs": [
    {
     "name": "stdout",
     "output_type": "stream",
     "text": [
      "1 is not divisible by 3\n",
      "2 is not divisible by 3\n",
      "3 is divisible by 3\n",
      "4 is not divisible by 3\n",
      "5 is not divisible by 3\n",
      "6 is divisible by 3\n",
      "7 is not divisible by 3\n",
      "8 is not divisible by 3\n",
      "9 is divisible by 3\n",
      "10 is not divisible by 3\n",
      "11 is not divisible by 3\n",
      "12 is divisible by 3\n",
      "13 is not divisible by 3\n",
      "14 is not divisible by 3\n",
      "15 is divisible by 3\n",
      "16 is not divisible by 3\n",
      "17 is not divisible by 3\n",
      "18 is divisible by 3\n",
      "19 is not divisible by 3\n",
      "20 is not divisible by 3\n",
      "21 is divisible by 3\n",
      "22 is not divisible by 3\n",
      "23 is not divisible by 3\n",
      "24 is divisible by 3\n",
      "25 is not divisible by 3\n"
     ]
    }
   ],
   "source": [
    "for i in l:\n",
    "    if i%3==0:\n",
    "        print(f\"{i} is divisible by 3\")\n",
    "    else:\n",
    "        print(f\"{i} is not divisible by 3\")\n",
    "    "
   ]
  },
  {
   "cell_type": "markdown",
   "id": "e5b580b6-732e-4e33-b7e0-9cdb9bfa0d73",
   "metadata": {},
   "source": [
    "7. Mutable data types are the datatypes in which we can modify the elements.\n",
    "   Immmuntable data types are the data types in which we cannot modify the elements."
   ]
  },
  {
   "cell_type": "code",
   "execution_count": 30,
   "id": "19d71618-1d93-4d53-b115-6bef267e4519",
   "metadata": {},
   "outputs": [],
   "source": [
    "# Ex. Mutable\n",
    "my_list = [1, 2, 3]\n",
    "my_list.append(4)     # Add an element\n",
    "my_list[0] = 0        # Modify an element\n",
    "my_list.remove(2)     # Remove an element"
   ]
  },
  {
   "cell_type": "code",
   "execution_count": 33,
   "id": "4df2f21f-8c2f-4a18-bcae-bff4a8fcd8aa",
   "metadata": {},
   "outputs": [],
   "source": [
    "# Ex. Immutable \n",
    "x=9"
   ]
  }
 ],
 "metadata": {
  "kernelspec": {
   "display_name": "Python 3 (ipykernel)",
   "language": "python",
   "name": "python3"
  },
  "language_info": {
   "codemirror_mode": {
    "name": "ipython",
    "version": 3
   },
   "file_extension": ".py",
   "mimetype": "text/x-python",
   "name": "python",
   "nbconvert_exporter": "python",
   "pygments_lexer": "ipython3",
   "version": "3.10.8"
  }
 },
 "nbformat": 4,
 "nbformat_minor": 5
}
